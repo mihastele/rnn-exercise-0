{
 "cells": [
  {
   "cell_type": "code",
   "execution_count": 1,
   "id": "ec042c0a",
   "metadata": {},
   "outputs": [],
   "source": [
    "# Question answering in transformers"
   ]
  },
  {
   "cell_type": "code",
   "execution_count": 2,
   "id": "a86eb244",
   "metadata": {},
   "outputs": [],
   "source": [
    "from transformers import pipeline"
   ]
  },
  {
   "cell_type": "code",
   "execution_count": 3,
   "id": "d1061202",
   "metadata": {},
   "outputs": [
    {
     "name": "stderr",
     "output_type": "stream",
     "text": [
      "No model was supplied, defaulted to distilbert-base-cased-distilled-squad and revision 626af31 (https://huggingface.co/distilbert-base-cased-distilled-squad).\n",
      "Using a pipeline without specifying a model name and revision in production is not recommended.\n"
     ]
    },
    {
     "data": {
      "application/vnd.jupyter.widget-view+json": {
       "model_id": "d127739551554fb6b89ef7b6a77938d1",
       "version_major": 2,
       "version_minor": 0
      },
      "text/plain": [
       "Downloading:   0%|          | 0.00/473 [00:00<?, ?B/s]"
      ]
     },
     "metadata": {},
     "output_type": "display_data"
    },
    {
     "name": "stderr",
     "output_type": "stream",
     "text": [
      "C:\\Users\\Uporabnik\\AppData\\Roaming\\Python\\Python39\\site-packages\\huggingface_hub\\file_download.py:127: UserWarning: `huggingface_hub` cache-system uses symlinks by default to efficiently store duplicated files but your machine does not support them in C:\\Users\\Uporabnik\\.cache\\huggingface\\hub. Caching files will still work but in a degraded version that might require more space on your disk. This warning can be disabled by setting the `HF_HUB_DISABLE_SYMLINKS_WARNING` environment variable. For more details, see https://huggingface.co/docs/huggingface_hub/how-to-cache#limitations.\n",
      "To support symlinks on Windows, you either need to activate Developer Mode or to run Python as an administrator. In order to see activate developer mode, see this article: https://docs.microsoft.com/en-us/windows/apps/get-started/enable-your-device-for-development\n",
      "  warnings.warn(message)\n"
     ]
    },
    {
     "data": {
      "application/vnd.jupyter.widget-view+json": {
       "model_id": "3797d1b30b6b4c2687bf495298ca480a",
       "version_major": 2,
       "version_minor": 0
      },
      "text/plain": [
       "Downloading:   0%|          | 0.00/261M [00:00<?, ?B/s]"
      ]
     },
     "metadata": {},
     "output_type": "display_data"
    },
    {
     "name": "stderr",
     "output_type": "stream",
     "text": [
      "All model checkpoint layers were used when initializing TFDistilBertForQuestionAnswering.\n",
      "\n",
      "All the layers of TFDistilBertForQuestionAnswering were initialized from the model checkpoint at distilbert-base-cased-distilled-squad.\n",
      "If your task is similar to the task the model of the checkpoint was trained on, you can already use TFDistilBertForQuestionAnswering for predictions without further training.\n"
     ]
    },
    {
     "data": {
      "application/vnd.jupyter.widget-view+json": {
       "model_id": "5becca3c55334c42bb3c3b021dd58bbd",
       "version_major": 2,
       "version_minor": 0
      },
      "text/plain": [
       "Downloading:   0%|          | 0.00/29.0 [00:00<?, ?B/s]"
      ]
     },
     "metadata": {},
     "output_type": "display_data"
    },
    {
     "data": {
      "application/vnd.jupyter.widget-view+json": {
       "model_id": "8bef4bdd8561402eaac8c9e56c592869",
       "version_major": 2,
       "version_minor": 0
      },
      "text/plain": [
       "Downloading:   0%|          | 0.00/213k [00:00<?, ?B/s]"
      ]
     },
     "metadata": {},
     "output_type": "display_data"
    },
    {
     "data": {
      "application/vnd.jupyter.widget-view+json": {
       "model_id": "9adc665b2b76475abbcf3cc5abf026e8",
       "version_major": 2,
       "version_minor": 0
      },
      "text/plain": [
       "Downloading:   0%|          | 0.00/436k [00:00<?, ?B/s]"
      ]
     },
     "metadata": {},
     "output_type": "display_data"
    }
   ],
   "source": [
    "qa = pipeline(\"question-answering\")"
   ]
  },
  {
   "cell_type": "code",
   "execution_count": 4,
   "id": "7df0a735",
   "metadata": {},
   "outputs": [],
   "source": [
    "context = \"Today I went to the grocery store and bought some energy drinks.\""
   ]
  },
  {
   "cell_type": "code",
   "execution_count": 5,
   "id": "ee608247",
   "metadata": {},
   "outputs": [],
   "source": [
    "question = \"What did I buy?\""
   ]
  },
  {
   "cell_type": "code",
   "execution_count": 6,
   "id": "f2d4eb3c",
   "metadata": {},
   "outputs": [
    {
     "data": {
      "text/plain": [
       "{'score': 0.8758265972137451,\n",
       " 'start': 50,\n",
       " 'end': 63,\n",
       " 'answer': 'energy drinks'}"
      ]
     },
     "execution_count": 6,
     "metadata": {},
     "output_type": "execute_result"
    }
   ],
   "source": [
    "qa(context=context, question=question)"
   ]
  },
  {
   "cell_type": "code",
   "execution_count": 7,
   "id": "d3117ca6",
   "metadata": {},
   "outputs": [],
   "source": [
    "question = \"Did I buy something to eat or to drink?\""
   ]
  },
  {
   "cell_type": "code",
   "execution_count": 8,
   "id": "30010379",
   "metadata": {},
   "outputs": [
    {
     "data": {
      "text/plain": [
       "{'score': 0.7925112247467041,\n",
       " 'start': 50,\n",
       " 'end': 63,\n",
       " 'answer': 'energy drinks'}"
      ]
     },
     "execution_count": 8,
     "metadata": {},
     "output_type": "execute_result"
    }
   ],
   "source": [
    "qa(context=context, question=question)"
   ]
  },
  {
   "cell_type": "code",
   "execution_count": 9,
   "id": "c9b67b76",
   "metadata": {},
   "outputs": [],
   "source": [
    "question = \"What did I do today?\""
   ]
  },
  {
   "cell_type": "code",
   "execution_count": 10,
   "id": "7f7a2459",
   "metadata": {},
   "outputs": [
    {
     "data": {
      "text/plain": [
       "{'score': 0.5980190634727478,\n",
       " 'start': 8,\n",
       " 'end': 33,\n",
       " 'answer': 'went to the grocery store'}"
      ]
     },
     "execution_count": 10,
     "metadata": {},
     "output_type": "execute_result"
    }
   ],
   "source": [
    "qa(context=context, question=question)"
   ]
  },
  {
   "cell_type": "code",
   "execution_count": 11,
   "id": "6545aa6f",
   "metadata": {},
   "outputs": [],
   "source": [
    "# copied from Wikipedia: https://en.wikipedia.org/wiki/Ljubljana\n",
    "context = \"\"\"\n",
    "Ljubljana[a] (also known by other historical names) is the capital and largest city of Slovenia.[14][15] It is the country's cultural, educational, economic, political and administrative center.\n",
    "\n",
    "During antiquity, a Roman city called Emona stood in the area.[16] Ljubljana itself was first mentioned in the first half of the 12th century. Situated at the middle of a trade route between the northern Adriatic Sea and the Danube region, it was the historical capital of Carniola,[17] one of the Slovene-inhabited parts of the Habsburg monarchy.[14] It was under Habsburg rule from the Middle Ages until the dissolution of the Austro-Hungarian Empire in 1918. After World War II, Ljubljana became the capital of the Socialist Republic of Slovenia, part of the Socialist Federal Republic of Yugoslavia. The city retained this status until Slovenia became independent in 1991 and Ljubljana became the capital of the newly formed state.\n",
    "\"\"\""
   ]
  },
  {
   "cell_type": "code",
   "execution_count": 12,
   "id": "3ecb6070",
   "metadata": {},
   "outputs": [],
   "source": [
    "question = \"What happend during antiquity?\""
   ]
  },
  {
   "cell_type": "code",
   "execution_count": 13,
   "id": "036013f3",
   "metadata": {},
   "outputs": [
    {
     "data": {
      "text/plain": [
       "{'score': 0.2824074923992157,\n",
       " 'start': 215,\n",
       " 'end': 258,\n",
       " 'answer': 'a Roman city called Emona stood in the area'}"
      ]
     },
     "execution_count": 13,
     "metadata": {},
     "output_type": "execute_result"
    }
   ],
   "source": [
    "qa(context=context, question=question)"
   ]
  },
  {
   "cell_type": "code",
   "execution_count": 15,
   "id": "b5ce6437",
   "metadata": {},
   "outputs": [
    {
     "data": {
      "text/plain": [
       "{'score': 0.18787476420402527,\n",
       " 'start': 308,\n",
       " 'end': 338,\n",
       " 'answer': 'first half of the 12th century'}"
      ]
     },
     "execution_count": 15,
     "metadata": {},
     "output_type": "execute_result"
    }
   ],
   "source": [
    "question = \"How was Ljubljana called a long time ago?\"\n",
    "qa(context=context, question=question)"
   ]
  },
  {
   "cell_type": "code",
   "execution_count": null,
   "id": "040ab12b",
   "metadata": {},
   "outputs": [],
   "source": []
  }
 ],
 "metadata": {
  "kernelspec": {
   "display_name": "Python 3 (ipykernel)",
   "language": "python",
   "name": "python3"
  },
  "language_info": {
   "codemirror_mode": {
    "name": "ipython",
    "version": 3
   },
   "file_extension": ".py",
   "mimetype": "text/x-python",
   "name": "python",
   "nbconvert_exporter": "python",
   "pygments_lexer": "ipython3",
   "version": "3.9.12"
  }
 },
 "nbformat": 4,
 "nbformat_minor": 5
}
