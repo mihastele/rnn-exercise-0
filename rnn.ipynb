{
 "cells": [
  {
   "attachments": {},
   "cell_type": "markdown",
   "metadata": {},
   "source": [
    "# RNN playground"
   ]
  },
  {
   "cell_type": "code",
   "execution_count": 1,
   "metadata": {},
   "outputs": [],
   "source": [
    "# import numpy as np\n",
    "# import tensorflow as tf\n",
    "\n",
    "# N (samples) x D (features) x T (time teps)\n",
    "\n",
    "# example stock price\n",
    "# T=10 -> 10\n",
    "# D = 1 -> stock price is the only feature\n",
    "# N number of windows in time series\n",
    "# 100 stock prices\n",
    "# window = T = 10\n",
    "# 100 - 10 + 1 (L - T + 1)\n",
    "# D = 500 -> 500 prices of different stocks\n",
    "\n",
    "# N x D\n",
    "# N x H x W x C\n",
    "# tensorflow N x D x T\n",
    "\n",
    "# number of steps you want to predict is called horizon"
   ]
  },
  {
   "cell_type": "code",
   "execution_count": 5,
   "metadata": {},
   "outputs": [],
   "source": [
    "#%pip install tensorflow\n",
    "#%pip install matplotlib\n",
    "#%pip install scikit-learn"
   ]
  },
  {
   "cell_type": "code",
   "execution_count": 6,
   "metadata": {},
   "outputs": [],
   "source": [
    "from tensorflow.keras.layers import Input, LSTM, GRU, SimpleRNN, Dense, GlobalMaxPool1D\n",
    "from tensorflow.keras.models import Model\n",
    "from tensorflow.keras.optimizers import SGD, Adam\n",
    "\n",
    "import numpy as np\n",
    "import pandas as pd\n",
    "import matplotlib.pyplot as plt\n",
    "from sklearn.preprocessing import StandardScaler"
   ]
  },
  {
   "cell_type": "code",
   "execution_count": 10,
   "metadata": {},
   "outputs": [],
   "source": [
    "# df = pd.read_csv('https://raw.githubusercontent.com/prasertcbs/basic-dataset/master/Starbucks%20satisfactory%20survey.csv')\n",
    "df = pd.read_csv('https://raw.githubusercontent.com/gupta24789/Machine-Learning-Datasets/master/starbucks.csv')"
   ]
  },
  {
   "cell_type": "code",
   "execution_count": 12,
   "metadata": {},
   "outputs": [
    {
     "data": {
      "text/html": [
       "<div>\n",
       "<style scoped>\n",
       "    .dataframe tbody tr th:only-of-type {\n",
       "        vertical-align: middle;\n",
       "    }\n",
       "\n",
       "    .dataframe tbody tr th {\n",
       "        vertical-align: top;\n",
       "    }\n",
       "\n",
       "    .dataframe thead th {\n",
       "        text-align: right;\n",
       "    }\n",
       "</style>\n",
       "<table border=\"1\" class=\"dataframe\">\n",
       "  <thead>\n",
       "    <tr style=\"text-align: right;\">\n",
       "      <th></th>\n",
       "      <th>Date</th>\n",
       "      <th>Close</th>\n",
       "      <th>Volume</th>\n",
       "    </tr>\n",
       "  </thead>\n",
       "  <tbody>\n",
       "    <tr>\n",
       "      <th>0</th>\n",
       "      <td>2015-01-02</td>\n",
       "      <td>38.0061</td>\n",
       "      <td>6906098</td>\n",
       "    </tr>\n",
       "    <tr>\n",
       "      <th>1</th>\n",
       "      <td>2015-01-05</td>\n",
       "      <td>37.2781</td>\n",
       "      <td>11623796</td>\n",
       "    </tr>\n",
       "    <tr>\n",
       "      <th>2</th>\n",
       "      <td>2015-01-06</td>\n",
       "      <td>36.9748</td>\n",
       "      <td>7664340</td>\n",
       "    </tr>\n",
       "    <tr>\n",
       "      <th>3</th>\n",
       "      <td>2015-01-07</td>\n",
       "      <td>37.8848</td>\n",
       "      <td>9732554</td>\n",
       "    </tr>\n",
       "    <tr>\n",
       "      <th>4</th>\n",
       "      <td>2015-01-08</td>\n",
       "      <td>38.4961</td>\n",
       "      <td>13170548</td>\n",
       "    </tr>\n",
       "    <tr>\n",
       "      <th>...</th>\n",
       "      <td>...</td>\n",
       "      <td>...</td>\n",
       "      <td>...</td>\n",
       "    </tr>\n",
       "    <tr>\n",
       "      <th>1001</th>\n",
       "      <td>2018-12-24</td>\n",
       "      <td>60.5600</td>\n",
       "      <td>6323252</td>\n",
       "    </tr>\n",
       "    <tr>\n",
       "      <th>1002</th>\n",
       "      <td>2018-12-26</td>\n",
       "      <td>63.0800</td>\n",
       "      <td>16646238</td>\n",
       "    </tr>\n",
       "    <tr>\n",
       "      <th>1003</th>\n",
       "      <td>2018-12-27</td>\n",
       "      <td>63.2000</td>\n",
       "      <td>11308081</td>\n",
       "    </tr>\n",
       "    <tr>\n",
       "      <th>1004</th>\n",
       "      <td>2018-12-28</td>\n",
       "      <td>63.3900</td>\n",
       "      <td>7712127</td>\n",
       "    </tr>\n",
       "    <tr>\n",
       "      <th>1005</th>\n",
       "      <td>2018-12-31</td>\n",
       "      <td>64.4000</td>\n",
       "      <td>7690183</td>\n",
       "    </tr>\n",
       "  </tbody>\n",
       "</table>\n",
       "<p>1006 rows × 3 columns</p>\n",
       "</div>"
      ],
      "text/plain": [
       "            Date    Close    Volume\n",
       "0     2015-01-02  38.0061   6906098\n",
       "1     2015-01-05  37.2781  11623796\n",
       "2     2015-01-06  36.9748   7664340\n",
       "3     2015-01-07  37.8848   9732554\n",
       "4     2015-01-08  38.4961  13170548\n",
       "...          ...      ...       ...\n",
       "1001  2018-12-24  60.5600   6323252\n",
       "1002  2018-12-26  63.0800  16646238\n",
       "1003  2018-12-27  63.2000  11308081\n",
       "1004  2018-12-28  63.3900   7712127\n",
       "1005  2018-12-31  64.4000   7690183\n",
       "\n",
       "[1006 rows x 3 columns]"
      ]
     },
     "execution_count": 12,
     "metadata": {},
     "output_type": "execute_result"
    }
   ],
   "source": [
    "df"
   ]
  },
  {
   "cell_type": "code",
   "execution_count": 29,
   "metadata": {},
   "outputs": [
    {
     "data": {
      "text/plain": [
       "array([[38.0061],\n",
       "       [37.2781],\n",
       "       [36.9748],\n",
       "       ...,\n",
       "       [63.2   ],\n",
       "       [63.39  ],\n",
       "       [64.4   ]])"
      ]
     },
     "execution_count": 29,
     "metadata": {},
     "output_type": "execute_result"
    }
   ],
   "source": [
    "series = df['Close'].values.reshape(-1,1)\n",
    "#series = series[:1000]\n",
    "series"
   ]
  },
  {
   "cell_type": "code",
   "execution_count": 30,
   "metadata": {},
   "outputs": [],
   "source": [
    "scaler = StandardScaler()\n",
    "scaler.fit(series[:len(series) // 2])\n",
    "series = scaler.transform(series).flatten()"
   ]
  },
  {
   "cell_type": "code",
   "execution_count": 28,
   "metadata": {},
   "outputs": [
    {
     "name": "stdout",
     "output_type": "stream",
     "text": [
      "X.shape (996, 10, 1) Y.shape (996,)\n"
     ]
    }
   ],
   "source": [
    "T = 10\n",
    "D = 1\n",
    "X = []\n",
    "Y = []\n",
    "for t in range(len(series) - T):\n",
    "    x = series[t:t+T]\n",
    "    X.append(x)\n",
    "    y = series[t+T]\n",
    "    Y.append(y)\n",
    "\n",
    "X = np.array(X).reshape(-1, T, 1) # Now the data should be N x T x D = 1\n",
    "Y = np.array(Y)\n",
    "N = len(X)\n",
    "print(\"X.shape\", X.shape, \"Y.shape\", Y.shape)"
   ]
  },
  {
   "cell_type": "code",
   "execution_count": 32,
   "metadata": {},
   "outputs": [
    {
     "name": "stderr",
     "output_type": "stream",
     "text": [
      "WARNING:absl:`lr` is deprecated, please use `learning_rate` instead, or use the legacy optimizer, e.g.,tf.keras.optimizers.legacy.Adam.\n"
     ]
    },
    {
     "name": "stdout",
     "output_type": "stream",
     "text": [
      "Epoch 1/80\n",
      "16/16 [==============================] - 4s 55ms/step - loss: 0.9009 - val_loss: 1.0026\n",
      "Epoch 2/80\n",
      "16/16 [==============================] - 0s 15ms/step - loss: 0.7371 - val_loss: 0.8387\n",
      "Epoch 3/80\n",
      "16/16 [==============================] - 0s 14ms/step - loss: 0.5979 - val_loss: 0.7323\n",
      "Epoch 4/80\n",
      "16/16 [==============================] - 0s 14ms/step - loss: 0.4808 - val_loss: 0.6517\n",
      "Epoch 5/80\n",
      "16/16 [==============================] - 0s 14ms/step - loss: 0.3865 - val_loss: 0.5945\n",
      "Epoch 6/80\n",
      "16/16 [==============================] - 0s 14ms/step - loss: 0.3110 - val_loss: 0.5546\n",
      "Epoch 7/80\n",
      "16/16 [==============================] - 0s 14ms/step - loss: 0.2523 - val_loss: 0.5220\n",
      "Epoch 8/80\n",
      "16/16 [==============================] - 0s 15ms/step - loss: 0.2108 - val_loss: 0.4983\n",
      "Epoch 9/80\n",
      "16/16 [==============================] - 0s 14ms/step - loss: 0.1785 - val_loss: 0.4801\n",
      "Epoch 10/80\n",
      "16/16 [==============================] - 0s 14ms/step - loss: 0.1562 - val_loss: 0.4651\n",
      "Epoch 11/80\n",
      "16/16 [==============================] - 0s 18ms/step - loss: 0.1409 - val_loss: 0.4511\n",
      "Epoch 12/80\n",
      "16/16 [==============================] - 0s 15ms/step - loss: 0.1297 - val_loss: 0.4452\n",
      "Epoch 13/80\n",
      "16/16 [==============================] - 0s 15ms/step - loss: 0.1205 - val_loss: 0.4385\n",
      "Epoch 14/80\n",
      "16/16 [==============================] - 0s 14ms/step - loss: 0.1138 - val_loss: 0.4335\n",
      "Epoch 15/80\n",
      "16/16 [==============================] - 0s 14ms/step - loss: 0.1074 - val_loss: 0.4264\n",
      "Epoch 16/80\n",
      "16/16 [==============================] - 0s 14ms/step - loss: 0.1025 - val_loss: 0.4204\n",
      "Epoch 17/80\n",
      "16/16 [==============================] - 0s 14ms/step - loss: 0.0979 - val_loss: 0.4148\n",
      "Epoch 18/80\n",
      "16/16 [==============================] - 0s 16ms/step - loss: 0.0938 - val_loss: 0.4087\n",
      "Epoch 19/80\n",
      "16/16 [==============================] - 0s 16ms/step - loss: 0.0901 - val_loss: 0.4004\n",
      "Epoch 20/80\n",
      "16/16 [==============================] - 0s 17ms/step - loss: 0.0867 - val_loss: 0.3899\n",
      "Epoch 21/80\n",
      "16/16 [==============================] - 0s 14ms/step - loss: 0.0834 - val_loss: 0.3867\n",
      "Epoch 22/80\n",
      "16/16 [==============================] - 0s 14ms/step - loss: 0.0805 - val_loss: 0.3774\n",
      "Epoch 23/80\n",
      "16/16 [==============================] - 0s 15ms/step - loss: 0.0779 - val_loss: 0.3699\n",
      "Epoch 24/80\n",
      "16/16 [==============================] - 0s 14ms/step - loss: 0.0754 - val_loss: 0.3626\n",
      "Epoch 25/80\n",
      "16/16 [==============================] - 0s 14ms/step - loss: 0.0731 - val_loss: 0.3555\n",
      "Epoch 26/80\n",
      "16/16 [==============================] - 0s 14ms/step - loss: 0.0710 - val_loss: 0.3501\n",
      "Epoch 27/80\n",
      "16/16 [==============================] - 0s 17ms/step - loss: 0.0690 - val_loss: 0.3400\n",
      "Epoch 28/80\n",
      "16/16 [==============================] - 0s 14ms/step - loss: 0.0672 - val_loss: 0.3331\n",
      "Epoch 29/80\n",
      "16/16 [==============================] - 0s 14ms/step - loss: 0.0654 - val_loss: 0.3266\n",
      "Epoch 30/80\n",
      "16/16 [==============================] - 0s 15ms/step - loss: 0.0637 - val_loss: 0.3223\n",
      "Epoch 31/80\n",
      "16/16 [==============================] - 0s 14ms/step - loss: 0.0623 - val_loss: 0.3168\n",
      "Epoch 32/80\n",
      "16/16 [==============================] - 0s 14ms/step - loss: 0.0608 - val_loss: 0.3096\n",
      "Epoch 33/80\n",
      "16/16 [==============================] - 0s 17ms/step - loss: 0.0594 - val_loss: 0.3049\n",
      "Epoch 34/80\n",
      "16/16 [==============================] - 0s 14ms/step - loss: 0.0580 - val_loss: 0.2964\n",
      "Epoch 35/80\n",
      "16/16 [==============================] - 0s 13ms/step - loss: 0.0569 - val_loss: 0.2906\n",
      "Epoch 36/80\n",
      "16/16 [==============================] - 0s 14ms/step - loss: 0.0557 - val_loss: 0.2870\n",
      "Epoch 37/80\n",
      "16/16 [==============================] - 0s 15ms/step - loss: 0.0546 - val_loss: 0.2832\n",
      "Epoch 38/80\n",
      "16/16 [==============================] - 0s 25ms/step - loss: 0.0536 - val_loss: 0.2766\n",
      "Epoch 39/80\n",
      "16/16 [==============================] - 0s 18ms/step - loss: 0.0527 - val_loss: 0.2718\n",
      "Epoch 40/80\n",
      "16/16 [==============================] - 0s 25ms/step - loss: 0.0518 - val_loss: 0.2643\n",
      "Epoch 41/80\n",
      "16/16 [==============================] - 0s 31ms/step - loss: 0.0509 - val_loss: 0.2623\n",
      "Epoch 42/80\n",
      "16/16 [==============================] - 0s 18ms/step - loss: 0.0500 - val_loss: 0.2541\n",
      "Epoch 43/80\n",
      "16/16 [==============================] - 0s 25ms/step - loss: 0.0491 - val_loss: 0.2520\n",
      "Epoch 44/80\n",
      "16/16 [==============================] - 0s 20ms/step - loss: 0.0484 - val_loss: 0.2476\n",
      "Epoch 45/80\n",
      "16/16 [==============================] - 0s 16ms/step - loss: 0.0477 - val_loss: 0.2446\n",
      "Epoch 46/80\n",
      "16/16 [==============================] - 0s 15ms/step - loss: 0.0469 - val_loss: 0.2417\n",
      "Epoch 47/80\n",
      "16/16 [==============================] - 0s 17ms/step - loss: 0.0462 - val_loss: 0.2356\n",
      "Epoch 48/80\n",
      "16/16 [==============================] - 0s 16ms/step - loss: 0.0455 - val_loss: 0.2345\n",
      "Epoch 49/80\n",
      "16/16 [==============================] - 0s 16ms/step - loss: 0.0450 - val_loss: 0.2288\n",
      "Epoch 50/80\n",
      "16/16 [==============================] - 0s 23ms/step - loss: 0.0443 - val_loss: 0.2253\n",
      "Epoch 51/80\n",
      "16/16 [==============================] - 0s 26ms/step - loss: 0.0438 - val_loss: 0.2225\n",
      "Epoch 52/80\n",
      "16/16 [==============================] - 0s 20ms/step - loss: 0.0434 - val_loss: 0.2192\n",
      "Epoch 53/80\n",
      "16/16 [==============================] - 0s 20ms/step - loss: 0.0428 - val_loss: 0.2142\n",
      "Epoch 54/80\n",
      "16/16 [==============================] - 0s 17ms/step - loss: 0.0423 - val_loss: 0.2125\n",
      "Epoch 55/80\n",
      "16/16 [==============================] - 0s 17ms/step - loss: 0.0418 - val_loss: 0.2073\n",
      "Epoch 56/80\n",
      "16/16 [==============================] - 0s 19ms/step - loss: 0.0414 - val_loss: 0.2048\n",
      "Epoch 57/80\n",
      "16/16 [==============================] - 0s 20ms/step - loss: 0.0410 - val_loss: 0.2014\n",
      "Epoch 58/80\n",
      "16/16 [==============================] - 0s 20ms/step - loss: 0.0406 - val_loss: 0.1967\n",
      "Epoch 59/80\n",
      "16/16 [==============================] - 0s 18ms/step - loss: 0.0403 - val_loss: 0.1965\n",
      "Epoch 60/80\n",
      "16/16 [==============================] - 0s 17ms/step - loss: 0.0399 - val_loss: 0.1943\n",
      "Epoch 61/80\n",
      "16/16 [==============================] - 0s 19ms/step - loss: 0.0394 - val_loss: 0.1896\n",
      "Epoch 62/80\n",
      "16/16 [==============================] - 0s 19ms/step - loss: 0.0391 - val_loss: 0.1868\n",
      "Epoch 63/80\n",
      "16/16 [==============================] - 0s 17ms/step - loss: 0.0388 - val_loss: 0.1851\n",
      "Epoch 64/80\n",
      "16/16 [==============================] - 0s 17ms/step - loss: 0.0385 - val_loss: 0.1822\n",
      "Epoch 65/80\n",
      "16/16 [==============================] - 0s 17ms/step - loss: 0.0382 - val_loss: 0.1767\n",
      "Epoch 66/80\n",
      "16/16 [==============================] - 0s 16ms/step - loss: 0.0384 - val_loss: 0.1784\n",
      "Epoch 67/80\n",
      "16/16 [==============================] - 0s 17ms/step - loss: 0.0380 - val_loss: 0.1709\n",
      "Epoch 68/80\n",
      "16/16 [==============================] - 0s 25ms/step - loss: 0.0375 - val_loss: 0.1732\n",
      "Epoch 69/80\n",
      "16/16 [==============================] - 0s 16ms/step - loss: 0.0372 - val_loss: 0.1671\n",
      "Epoch 70/80\n",
      "16/16 [==============================] - 0s 13ms/step - loss: 0.0369 - val_loss: 0.1656\n",
      "Epoch 71/80\n",
      "16/16 [==============================] - 0s 15ms/step - loss: 0.0366 - val_loss: 0.1640\n",
      "Epoch 72/80\n",
      "16/16 [==============================] - 0s 14ms/step - loss: 0.0365 - val_loss: 0.1632\n",
      "Epoch 73/80\n",
      "16/16 [==============================] - 0s 15ms/step - loss: 0.0362 - val_loss: 0.1568\n",
      "Epoch 74/80\n",
      "16/16 [==============================] - 0s 14ms/step - loss: 0.0360 - val_loss: 0.1566\n",
      "Epoch 75/80\n",
      "16/16 [==============================] - 0s 14ms/step - loss: 0.0358 - val_loss: 0.1534\n",
      "Epoch 76/80\n",
      "16/16 [==============================] - 0s 15ms/step - loss: 0.0355 - val_loss: 0.1518\n",
      "Epoch 77/80\n",
      "16/16 [==============================] - 0s 14ms/step - loss: 0.0353 - val_loss: 0.1506\n",
      "Epoch 78/80\n",
      "16/16 [==============================] - 0s 13ms/step - loss: 0.0351 - val_loss: 0.1488\n",
      "Epoch 79/80\n",
      "16/16 [==============================] - 0s 13ms/step - loss: 0.0350 - val_loss: 0.1454\n",
      "Epoch 80/80\n",
      "16/16 [==============================] - 0s 14ms/step - loss: 0.0348 - val_loss: 0.1460\n"
     ]
    }
   ],
   "source": [
    "i = Input(shape=(T,1))\n",
    "x = LSTM(5)(i)\n",
    "x = Dense(1)(x)\n",
    "model = Model(i, x)\n",
    "model.compile(loss = 'mse', optimizer=Adam(learning_rate=0.1))\n",
    "\n",
    "# train\n",
    "r = model.fit( X[:-N//2], Y[:-N//2], epochs=80,\n",
    "validation_data=(X[-N//2:], Y[-N//2:]))"
   ]
  },
  {
   "cell_type": "code",
   "execution_count": 34,
   "metadata": {},
   "outputs": [
    {
     "data": {
      "text/plain": [
       "<matplotlib.legend.Legend at 0x7f9c86d2a5c0>"
      ]
     },
     "execution_count": 34,
     "metadata": {},
     "output_type": "execute_result"
    },
    {
     "data": {
      "image/png": "[encoded data removed]",
      "text/plain": [
       "<Figure size 640x480 with 1 Axes>"
      ]
     },
     "metadata": {},
     "output_type": "display_data"
    }
   ],
   "source": [
    "import matplotlib.pyplot as plt\n",
    "plt.plot(r.history['loss'], label='loss')\n",
    "plt.plot(r.history['val_loss'], label='vall_loss')\n",
    "plt.legend()"
   ]
  },
  {
   "cell_type": "code",
   "execution_count": null,
   "metadata": {},
   "outputs": [],
   "source": []
  }
 ],
 "metadata": {
  "kernelspec": {
   "display_name": "Python 3",
   "language": "python",
   "name": "python3"
  },
  "language_info": {
   "codemirror_mode": {
    "name": "ipython",
    "version": 3
   },
   "file_extension": ".py",
   "mimetype": "text/x-python",
   "name": "python",
   "nbconvert_exporter": "python",
   "pygments_lexer": "ipython3",
   "version": "3.10.9"
  },
  "orig_nbformat": 4,
  "vscode": {
   "interpreter": {
    "hash": "e7370f93d1d0cde622a1f8e1c04877d8463912d04d973331ad4851f04de6915a"
   }
  }
 },
 "nbformat": 4,
 "nbformat_minor": 2
}
